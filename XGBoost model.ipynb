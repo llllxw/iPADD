{
 "cells": [
  {
   "cell_type": "code",
   "execution_count": 8,
   "id": "6ff38d13",
   "metadata": {},
   "outputs": [],
   "source": [
    "import numpy as np\n",
    "import pandas as pd\n",
    "from sklearn.model_selection import cross_val_score\n",
    "import matplotlib.pyplot as plt\n",
    "import matplotlib\n",
    "from matplotlib.pyplot import plot,savefig\n",
    "from sklearn.metrics import roc_curve, auc\n",
    "from matplotlib.pyplot import plot,savefig\n",
    "import xgboost\n",
    "from xgboost import XGBClassifier as XGB \n",
    "from sklearn.metrics import accuracy_score\n",
    "from sklearn.metrics import confusion_matrix\n",
    "from math import sqrt\n",
    "from sklearn import metrics\n",
    "import seaborn as sns\n",
    "import pickle"
   ]
  },
  {
   "cell_type": "code",
   "execution_count": 9,
   "id": "dd8066ed",
   "metadata": {},
   "outputs": [],
   "source": [
    "clf = XGB()"
   ]
  },
  {
   "cell_type": "code",
   "execution_count": 10,
   "id": "6ad7e34d",
   "metadata": {},
   "outputs": [],
   "source": [
    "efm1train = pd.read_csv('training_efm1.csv')\n",
    "efm1test = pd.read_csv('test_efm1.csv')\n",
    "efm1x = efm1train.iloc[:,1:]\n",
    "efm1y = efm1train.iloc[:,0]\n",
    "efm1x_test = efm1test.iloc[:,1:]\n",
    "efm1y_test = efm1test.iloc[:,0]\n",
    "\n",
    "efm2train = pd.read_csv('training_efm2.csv')\n",
    "efm2test = pd.read_csv('test_efm2.csv')\n",
    "efm2x = efm2train.iloc[:,1:]\n",
    "efm2y = efm2train.iloc[:,0]\n",
    "efm2x_test = efm2test.iloc[:,1:]\n",
    "efm2y_test = efm2test.iloc[:,0]\n",
    "\n",
    "efm3train = pd.read_csv('training_efm3.csv')\n",
    "efm3test = pd.read_csv('test_efm3.csv')\n",
    "efm3x = efm3train.iloc[:,1:]\n",
    "efm3y = efm3train.iloc[:,0]\n",
    "efm3x_test = efm3test.iloc[:,1:]\n",
    "efm3y_test = efm3test.iloc[:,0]\n",
    "\n",
    "efm4train = pd.read_csv('training_efm4.csv')\n",
    "efm4test = pd.read_csv('test_efm4.csv')\n",
    "efm4x = efm4train.iloc[:,1:]\n",
    "efm4y = efm4train.iloc[:,0]\n",
    "efm4x_test = efm4test.iloc[:,1:]\n",
    "efm4y_test = efm4test.iloc[:,0]\n",
    "\n",
    "efm1_mrmrfea = pd.read_csv('efm1_mrmr.csv')\n",
    "efm2_mrmrfea = pd.read_csv('efm2_mrmr.csv')\n",
    "efm3_mrmrfea = pd.read_csv('efm3_mrmr.csv')\n",
    "efm4_mrmrfea = pd.read_csv('efm4_mrmr.csv')\n",
    "\n",
    "efm1_select = []\n",
    "for i in range(efm1_mrmrfea.shape[0]):\n",
    "    a = str(efm1_mrmrfea.iloc[i,1])\n",
    "    efm1_select.append(a)\n",
    "    \n",
    "efm1_X = efm1x[efm1_select]\n",
    "\n",
    "efm2_select = []\n",
    "for i in range(efm2_mrmrfea.shape[0]):\n",
    "    a = str(efm2_mrmrfea.iloc[i,1])\n",
    "    efm2_select.append(a)\n",
    "    \n",
    "efm2_X = efm2x[efm2_select]\n",
    "\n",
    "efm3_select = []\n",
    "for i in range(efm3_mrmrfea.shape[0]):\n",
    "    a = str(efm3_mrmrfea.iloc[i,1])\n",
    "    efm3_select.append(a)\n",
    "    \n",
    "efm3_X = efm3x[efm3_select]\n",
    "\n",
    "efm4_select = []\n",
    "for i in range(efm4_mrmrfea.shape[0]):\n",
    "    a = str(efm4_mrmrfea.iloc[i,1])\n",
    "    efm4_select.append(a)\n",
    "    \n",
    "efm4_X = efm4x[efm4_select]"
   ]
  },
  {
   "cell_type": "code",
   "execution_count": 14,
   "id": "f527520d",
   "metadata": {},
   "outputs": [],
   "source": [
    "#确定最佳阈值\n",
    "def Find_Optimal_Cutoff(TPR, FPR, threshold):\n",
    "    y = TPR - FPR\n",
    "    Youden_index = np.argmax(y)  # Only the first occurrence is returned.\n",
    "    optimal_threshold = threshold[Youden_index]\n",
    "    point = [FPR[Youden_index], TPR[Youden_index]]\n",
    "    return optimal_threshold, point"
   ]
  },
  {
   "cell_type": "code",
   "execution_count": 12,
   "id": "09befb75",
   "metadata": {},
   "outputs": [],
   "source": [
    "def calculate_data(TP,FP,FN,TN):\n",
    "    numerator = (TP * TN) - (FP * FN) #马修斯相关系数公式分子部分\n",
    "    denominator = sqrt((TP + FP) * (TP + FN) * (TN + FP) * (TN + FN)) #马修斯相关系数公式分母部分\n",
    "    MCCresult = numerator/denominator\n",
    "    return MCCresult"
   ]
  },
  {
   "cell_type": "code",
   "execution_count": 13,
   "id": "b258f170",
   "metadata": {},
   "outputs": [],
   "source": [
    "def ROC(label, y_prob):\n",
    "\n",
    "    fpr, tpr, thresholds = roc_curve(label, y_prob)\n",
    "    roc_auc = auc(fpr, tpr)\n",
    "\n",
    "    optimal_th, optimal_point = Find_Optimal_Cutoff(TPR=tpr, FPR=fpr, threshold=thresholds)\n",
    "    return fpr, tpr, roc_auc, optimal_th, optimal_point"
   ]
  },
  {
   "cell_type": "code",
   "execution_count": 15,
   "id": "a3c3c084",
   "metadata": {
    "collapsed": true
   },
   "outputs": [
    {
     "name": "stderr",
     "output_type": "stream",
     "text": [
      "/usr/anaconda/opt/lib/python3.8/site-packages/xgboost/sklearn.py:1224: UserWarning: The use of label encoder in XGBClassifier is deprecated and will be removed in a future release. To remove this warning, do the following: 1) Pass option use_label_encoder=False when constructing XGBClassifier object; and 2) Encode your labels (y) as integers starting with 0, i.e. 0, 1, 2, ..., [num_class - 1].\n",
      "  warnings.warn(label_encoder_deprecation_msg, UserWarning)\n"
     ]
    },
    {
     "name": "stdout",
     "output_type": "stream",
     "text": [
      "[22:31:46] WARNING: ../src/learner.cc:1115: Starting in XGBoost 1.3.0, the default evaluation metric used with the objective 'binary:logistic' was changed from 'error' to 'logloss'. Explicitly set eval_metric if you'd like to restore the old behavior.\n",
      "[22:31:46] WARNING: ../src/learner.cc:1115: Starting in XGBoost 1.3.0, the default evaluation metric used with the objective 'binary:logistic' was changed from 'error' to 'logloss'. Explicitly set eval_metric if you'd like to restore the old behavior.\n",
      "[22:31:47] WARNING: ../src/learner.cc:1115: Starting in XGBoost 1.3.0, the default evaluation metric used with the objective 'binary:logistic' was changed from 'error' to 'logloss'. Explicitly set eval_metric if you'd like to restore the old behavior.\n",
      "[22:31:47] WARNING: ../src/learner.cc:1115: Starting in XGBoost 1.3.0, the default evaluation metric used with the objective 'binary:logistic' was changed from 'error' to 'logloss'. Explicitly set eval_metric if you'd like to restore the old behavior.\n",
      "[22:31:48] WARNING: ../src/learner.cc:1115: Starting in XGBoost 1.3.0, the default evaluation metric used with the objective 'binary:logistic' was changed from 'error' to 'logloss'. Explicitly set eval_metric if you'd like to restore the old behavior.\n",
      "[22:31:49] WARNING: ../src/learner.cc:1115: Starting in XGBoost 1.3.0, the default evaluation metric used with the objective 'binary:logistic' was changed from 'error' to 'logloss'. Explicitly set eval_metric if you'd like to restore the old behavior.\n",
      "[22:31:49] WARNING: ../src/learner.cc:1115: Starting in XGBoost 1.3.0, the default evaluation metric used with the objective 'binary:logistic' was changed from 'error' to 'logloss'. Explicitly set eval_metric if you'd like to restore the old behavior.\n",
      "[22:31:50] WARNING: ../src/learner.cc:1115: Starting in XGBoost 1.3.0, the default evaluation metric used with the objective 'binary:logistic' was changed from 'error' to 'logloss'. Explicitly set eval_metric if you'd like to restore the old behavior.\n"
     ]
    },
    {
     "data": {
      "image/png": "[encoded data removed]",
      "text/plain": [
       "<Figure size 432x288 with 1 Axes>"
      ]
     },
     "metadata": {
      "needs_background": "light"
     },
     "output_type": "display_data"
    },
    {
     "name": "stdout",
     "output_type": "stream",
     "text": [
      "1.0 0.9666666666666667 0.9833333333333333 0.967741935483871 0.9836065573770492\n"
     ]
    },
    {
     "data": {
      "text/plain": [
       "0.9672041516493516"
      ]
     },
     "execution_count": 15,
     "metadata": {},
     "output_type": "execute_result"
    },
    {
     "data": {
      "image/png": "[encoded data removed]",
      "text/plain": [
       "<Figure size 432x288 with 2 Axes>"
      ]
     },
     "metadata": {
      "needs_background": "light"
     },
     "output_type": "display_data"
    }
   ],
   "source": [
    "#ECFP44+TOP3融合特征的sn,sp,acc,MCC和ROC曲线\n",
    "XGB_efm1x_train = efm1_X.iloc[:,:1074]\n",
    "XGB_efm1y_train = efm1y\n",
    "XGB_efm1x_test = efm1test[efm1_select].iloc[:,:1074]\n",
    "XGB_efm1y_test = efm1test.iloc[:,0]\n",
    "\n",
    "\n",
    "XGB_efm2x_train = efm2_X.iloc[:,:32]\n",
    "XGB_efm2y_train = efm2y\n",
    "XGB_efm2x_test = efm2test[efm2_select].iloc[:,:32]\n",
    "XGB_efm2y_test = efm2test.iloc[:,0]\n",
    "\n",
    "\n",
    "XGB_efm3x_train = efm3_X.iloc[:,:1314]\n",
    "XGB_efm3y_train = efm3y\n",
    "XGB_efm3x_test = efm3test[efm3_select].iloc[:,:1314]\n",
    "XGB_efm3y_test = efm3test.iloc[:,0]\n",
    "\n",
    "\n",
    "XGB_efm4x_train = efm4_X.iloc[:,:2050]\n",
    "XGB_efm4y_train = efm4y\n",
    "XGB_efm4x_test = efm4test[efm4_select].iloc[:,:2050]\n",
    "XGB_efm4y_test = efm4test.iloc[:,0]\n",
    "\n",
    "\n",
    "XGB_efm1y_score = clf.fit(XGB_efm1x_train,XGB_efm1y_train).predict_proba(XGB_efm1x_test)\n",
    "XGB_efm2y_score = clf.fit(XGB_efm2x_train,XGB_efm2y_train).predict_proba(XGB_efm2x_test)\n",
    "XGB_efm3y_score = clf.fit(XGB_efm3x_train,XGB_efm3y_train).predict_proba(XGB_efm3x_test)\n",
    "XGB_efm4y_score = clf.fit(XGB_efm4x_train,XGB_efm4y_train).predict_proba(XGB_efm4x_test)\n",
    "XGB_predictp = (XGB_efm1y_score+XGB_efm2y_score+XGB_efm3y_score+XGB_efm4y_score)/4\n",
    "\n",
    "#得到XGB预测的标签\n",
    "XGB_efm1y_predict = clf.fit(XGB_efm1x_train,XGB_efm1y_train).predict(XGB_efm1x_test)\n",
    "XGB_efm2y_predict = clf.fit(XGB_efm2x_train,XGB_efm2y_train).predict(XGB_efm2x_test)\n",
    "XGB_efm3y_predict = clf.fit(XGB_efm3x_train,XGB_efm3y_train).predict(XGB_efm3x_test)\n",
    "XGB_efm4y_predict = clf.fit(XGB_efm4x_train,XGB_efm4y_train).predict(XGB_efm4x_test)\n",
    "XGB_predict = np.array((XGB_efm1y_predict+XGB_efm2y_predict+XGB_efm3y_predict+XGB_efm4y_predict)>2,dtype=int)\n",
    "\n",
    "\n",
    "fpr, tpr, roc_auc, optimal_th, optimal_point = ROC(XGB_efm4y_test,XGB_predictp[:,1])\n",
    " \n",
    "plt.figure(1)\n",
    "plt.plot(fpr, tpr, label=f\"AUC = {roc_auc:.3f}\")\n",
    "plt.plot([0, 1], [0, 1], linestyle=\"--\")\n",
    "plt.plot(optimal_point[0], optimal_point[1], marker='o', color='r')\n",
    "plt.text(optimal_point[0], optimal_point[1], f'Threshold:{optimal_th:.2f}')\n",
    "plt.title(\"ROC-AUC\")\n",
    "plt.xlabel(\"False Positive Rate\")\n",
    "plt.ylabel(\"True Positive Rate\")\n",
    "plt.legend()\n",
    "plt.show()\n",
    "\n",
    "\n",
    "#得到混淆矩阵\n",
    "XGB_best = pd.DataFrame(XGB_predictp[:,1]>0.38).astype(int)\n",
    "XGB_bestpre = metrics.confusion_matrix(XGB_efm4y_test,XGB_best)\n",
    "sns.heatmap(XGB_bestpre,annot=True,fmt='.20g', xticklabels= True, yticklabels= True, square=True,cmap=\"YlGnBu\")#,fontproperties=prop)\n",
    "TN, FP, FN, TP = confusion_matrix(XGB_efm4y_test, XGB_best).ravel()\n",
    "sn = TP/(TP+FN)\n",
    "sp = TN/(TN+FP)\n",
    "acc = (TP+TN)/(TP+TN+FP+FN)\n",
    "precision = TP/(TP+FP)\n",
    "F1_score = 2*(precision*sn)/(precision+sn)\n",
    "\n",
    "print(sn,sp,acc,precision,F1_score)\n",
    "calculate_data(TP,FP,FN,TN)"
   ]
  },
  {
   "cell_type": "code",
   "execution_count": 19,
   "id": "f8a67d3e",
   "metadata": {},
   "outputs": [
    {
     "name": "stdout",
     "output_type": "stream",
     "text": [
      "[22:37:50] WARNING: ../src/learner.cc:1115: Starting in XGBoost 1.3.0, the default evaluation metric used with the objective 'binary:logistic' was changed from 'error' to 'logloss'. Explicitly set eval_metric if you'd like to restore the old behavior.\n"
     ]
    }
   ],
   "source": [
    "XGB1 = clf.fit(XGB_efm1x_train,XGB_efm1y_train)\n",
    "pickle.dump(XGB1,open('XGB1.dat','wb'))"
   ]
  },
  {
   "cell_type": "code",
   "execution_count": 21,
   "id": "16363062",
   "metadata": {
    "collapsed": true
   },
   "outputs": [
    {
     "name": "stdout",
     "output_type": "stream",
     "text": [
      "[22:41:07] WARNING: ../src/learner.cc:1115: Starting in XGBoost 1.3.0, the default evaluation metric used with the objective 'binary:logistic' was changed from 'error' to 'logloss'. Explicitly set eval_metric if you'd like to restore the old behavior.\n"
     ]
    },
    {
     "name": "stderr",
     "output_type": "stream",
     "text": [
      "/usr/anaconda/opt/lib/python3.8/site-packages/xgboost/sklearn.py:1224: UserWarning: The use of label encoder in XGBClassifier is deprecated and will be removed in a future release. To remove this warning, do the following: 1) Pass option use_label_encoder=False when constructing XGBClassifier object; and 2) Encode your labels (y) as integers starting with 0, i.e. 0, 1, 2, ..., [num_class - 1].\n",
      "  warnings.warn(label_encoder_deprecation_msg, UserWarning)\n"
     ]
    }
   ],
   "source": [
    "XGB2 = clf.fit(XGB_efm2x_train,XGB_efm2y_train)\n",
    "pickle.dump(XGB2,open('XGB2.dat','wb'))"
   ]
  },
  {
   "cell_type": "code",
   "execution_count": 22,
   "id": "b5387492",
   "metadata": {},
   "outputs": [
    {
     "name": "stdout",
     "output_type": "stream",
     "text": [
      "[22:41:31] WARNING: ../src/learner.cc:1115: Starting in XGBoost 1.3.0, the default evaluation metric used with the objective 'binary:logistic' was changed from 'error' to 'logloss'. Explicitly set eval_metric if you'd like to restore the old behavior.\n"
     ]
    }
   ],
   "source": [
    "XGB3 = clf.fit(XGB_efm3x_train,XGB_efm3y_train)\n",
    "pickle.dump(XGB3,open('XGB3.dat','wb'))"
   ]
  },
  {
   "cell_type": "code",
   "execution_count": 23,
   "id": "f60ff9cf",
   "metadata": {},
   "outputs": [
    {
     "name": "stdout",
     "output_type": "stream",
     "text": [
      "[22:41:53] WARNING: ../src/learner.cc:1115: Starting in XGBoost 1.3.0, the default evaluation metric used with the objective 'binary:logistic' was changed from 'error' to 'logloss'. Explicitly set eval_metric if you'd like to restore the old behavior.\n"
     ]
    }
   ],
   "source": [
    "XGB4 = clf.fit(XGB_efm4x_train,XGB_efm4y_train)\n",
    "pickle.dump(XGB3,open('XGB4.dat','wb'))"
   ]
  }
 ],
 "metadata": {
  "kernelspec": {
   "display_name": "Python 3",
   "language": "python",
   "name": "python3"
  },
  "language_info": {
   "codemirror_mode": {
    "name": "ipython",
    "version": 3
   },
   "file_extension": ".py",
   "mimetype": "text/x-python",
   "name": "python",
   "nbconvert_exporter": "python",
   "pygments_lexer": "ipython3",
   "version": "3.8.8"
  }
 },
 "nbformat": 4,
 "nbformat_minor": 5
}
