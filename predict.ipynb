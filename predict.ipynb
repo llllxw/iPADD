{
 "cells": [
  {
   "cell_type": "code",
   "execution_count": 27,
   "id": "d1998cac",
   "metadata": {},
   "outputs": [],
   "source": [
    "import numpy as np\n",
    "import pandas as pd\n",
    "import urllib\n",
    "import pubchempy\n",
    "from rdkit import Chem\n",
    "from rdkit.Chem import MACCSkeys\n",
    "from rdkit import DataStructs\n",
    "from rdkit.Chem import AllChem\n",
    "from rdkit.Chem import Draw\n",
    "from sklearn.model_selection import cross_val_score\n",
    "import matplotlib.pyplot as plt\n",
    "import matplotlib\n",
    "from matplotlib.pyplot import plot,savefig\n",
    "from sklearn.metrics import roc_curve, auc\n",
    "from matplotlib.pyplot import plot,savefig\n",
    "import xgboost\n",
    "from xgboost import XGBClassifier as XGB\n",
    "from sklearn.metrics import accuracy_score\n",
    "from sklearn.metrics import confusion_matrix\n",
    "from math import sqrt\n",
    "from sklearn import metrics\n",
    "import seaborn as sns\n",
    "import pickle\n",
    "import joblib \n",
    "import sys"
   ]
  },
  {
   "cell_type": "code",
   "execution_count": 28,
   "id": "b6a7f76f",
   "metadata": {},
   "outputs": [],
   "source": [
    "test = sys.argv[1]"
   ]
  },
  {
   "cell_type": "code",
   "execution_count": null,
   "id": "b09e76f7",
   "metadata": {},
   "outputs": [],
   "source": [
    "#Extracting canonical_smiles of compounds\n",
    "with open('test.txt','r',encoding='utf-8-sig') as file1:\n",
    "    file_lines = file1.readlines()\n",
    "    name_list=[]\n",
    "    a=[]\n",
    "    b=[]\n",
    "\n",
    "    for i in file_lines:\n",
    "        j=i.strip() \n",
    "        name_list.append(str(j))\n",
    "    for k in  name_list:\n",
    "        results = pubchempy.get_compounds(k, 'name')\n",
    "        for l in results:\n",
    "            try:\n",
    "                CSs=l.canonical_smiles\n",
    "                a.append(k)\n",
    "                b.append(CSs)\n",
    "            except (pubchempy.BadRequestError,TimeoutError,urllib.error.URLError,ValueError):\n",
    "                pass\n",
    "            \n",
    "dataframe=pd.DataFrame({'name':a, 'canonical_smiles':b})\n",
    "dataframe.drop_duplicates(inplace=True)\n",
    "smiles = dataframe.iloc[:,1]\n",
    "name = dataframe.iloc[:,0]"
   ]
  },
  {
   "cell_type": "code",
   "execution_count": null,
   "id": "8f455e16",
   "metadata": {},
   "outputs": [],
   "source": [
    "#SMILES converted into molecular fingerprints\n",
    "mols = []\n",
    "for smi in smiles:\n",
    "    m = Chem.MolFromSmiles(smi)\n",
    "    mols.append(m)\n",
    "test_mac = [MACCSkeys.GenMACCSKeys(x) for x in mols]\n",
    "test_ecfp4 = [AllChem.GetMorganFingerprintAsBitVect(x,2, nBits=1024) for x in mols]\n",
    "test_fcfp4 =[AllChem.GetMorganFingerprintAsBitVect(x,2,useFeatures=True) for x in mols]"
   ]
  },
  {
   "cell_type": "code",
   "execution_count": null,
   "id": "80e893b9",
   "metadata": {},
   "outputs": [],
   "source": [
    "#Convert molecular fingerprints to txt and dataframe\n",
    "with open('test_mac.txt','w') as c:\n",
    "    for i in range(len(test_mac)):\n",
    "        str1 = test_mac[i].ToBitString()\n",
    "        for j in str1:\n",
    "            c.write(str(int(j))+',')\n",
    "        c.write('\\n')\n",
    "    c.close()\n",
    "    \n",
    "mac = open(\"test_mac.txt\",\"r\",encoding='utf-8') \n",
    "MF_mac=[]\n",
    "for line in mac.readlines():\n",
    "            line=line.split(',')\n",
    "            MF_mac.append(line)\n",
    "mac.close() \n",
    "MF_mac=pd.DataFrame(MF_mac,index = None)\n",
    "MF_mac = MF_mac.drop(MF_mac.columns[-1],axis=1)\n",
    "\n",
    "\n",
    "with open('test_ecfp4.txt','w') as d:\n",
    "    for i in range(len(test_ecfp4)):\n",
    "        str1 = test_ecfp4[i].ToBitString()\n",
    "        for j in str1:\n",
    "            d.write(str(int(j))+',')\n",
    "        d.write('\\n')\n",
    "    d.close()\n",
    "    \n",
    "ecfp4 = open(\"test_ecfp4.txt\",\"r\",encoding='utf-8') \n",
    "MF_ecfp4=[]\n",
    "for line in ecfp4.readlines():\n",
    "            line=line.split(',')\n",
    "            MF_ecfp4.append(line)\n",
    "ecfp4.close() \n",
    "MF_ecfp4=pd.DataFrame(MF_ecfp4,index = None)\n",
    "MF_ecfp4 = MF_ecfp4.drop(MF_ecfp4.columns[-1],axis=1)\n",
    "\n",
    "with open('test_fcfp4.txt','w') as e:\n",
    "    for i in range(len(test_fcfp4)):\n",
    "        str1 = test_fcfp4[i].ToBitString()\n",
    "        for j in str1:\n",
    "            e.write(str(int(j))+',')\n",
    "        e.write('\\n')\n",
    "    e.close()\n",
    "    \n",
    "fcfp4 = open(\"test_fcfp4.txt\",\"r\",encoding='utf-8') \n",
    "MF_fcfp4=[]\n",
    "for line in fcfp4.readlines():\n",
    "            line=line.split(',')\n",
    "            MF_fcfp4.append(line)\n",
    "fcfp4.close() \n",
    "MF_fcfp4=pd.DataFrame(MF_fcfp4,index = None)\n",
    "MF_fcfp4 = MF_fcfp4.drop(MF_fcfp4.columns[-1],axis=1)"
   ]
  },
  {
   "cell_type": "code",
   "execution_count": null,
   "id": "e6148986",
   "metadata": {},
   "outputs": [],
   "source": [
    "testEFM = pd.concat([MF_ecfp4,MF_fcfp4,MF_mac],axis = 1,ignore_index = True).dropna(axis = 1)"
   ]
  },
  {
   "cell_type": "code",
   "execution_count": 2,
   "id": "a746a1d0",
   "metadata": {},
   "outputs": [],
   "source": [
    "XGB1_pic = pickle.load(open('XGB1.dat','rb'))\n",
    "XGB2_pic = pickle.load(open('XGB2.dat','rb'))\n",
    "XGB3_pic = pickle.load(open('XGB3.dat','rb'))\n",
    "XGB4_pic = pickle.load(open('XGB4.dat','rb'))"
   ]
  },
  {
   "cell_type": "code",
   "execution_count": 11,
   "id": "4cf8c7fc",
   "metadata": {},
   "outputs": [],
   "source": [
    "efm1_mrmrfea = pd.read_csv('efm1_mrmr.csv')\n",
    "efm2_mrmrfea = pd.read_csv('efm2_mrmr.csv')\n",
    "efm3_mrmrfea = pd.read_csv('efm3_mrmr.csv')\n",
    "efm4_mrmrfea = pd.read_csv('efm4_mrmr.csv')\n",
    "\n",
    "efm1_select = []\n",
    "for i in range(efm1_mrmrfea.shape[0]):\n",
    "    a = str(efm1_mrmrfea.iloc[i,1])\n",
    "    efm1_select.append(a)\n",
    "    \n",
    "testEFM1_X = testEFM[efm1_select].iloc[:,:1074]\n",
    "\n",
    "efm2_select = []\n",
    "for i in range(efm2_mrmrfea.shape[0]):\n",
    "    a = str(efm2_mrmrfea.iloc[i,1])\n",
    "    efm2_select.append(a)\n",
    "    \n",
    "testEFM2_X = testEFM[efm2_select].iloc[:,:32]\n",
    "\n",
    "efm3_select = []\n",
    "for i in range(efm3_mrmrfea.shape[0]):\n",
    "    a = str(efm3_mrmrfea.iloc[i,1])\n",
    "    efm3_select.append(a)\n",
    "    \n",
    "testEFM3_X = testEFM[efm3_select].iloc[:,:1314]\n",
    "\n",
    "efm4_select = []\n",
    "for i in range(efm4_mrmrfea.shape[0]):\n",
    "    a = str(efm4_mrmrfea.iloc[i,1])\n",
    "    efm4_select.append(a)\n",
    "    \n",
    "testEFM4_X = testEFM[efm4_select].iloc[:,:2050]"
   ]
  },
  {
   "cell_type": "code",
   "execution_count": 16,
   "id": "03052035",
   "metadata": {},
   "outputs": [],
   "source": [
    "XGB1_pro = XGB1_pic.predict_proba(testEFM1_X)\n",
    "XGB2_pro = XGB2_pic.predict_proba(testEFM2_X)\n",
    "XGB3_pro = XGB3_pic.predict_proba(testEFM3_X)\n",
    "XGB4_pro = XGB4_pic.predict_proba(testEFM4_X)\n",
    "XGB_pro = (XGB1_pro+XGB2_pro+XGB3_pro+XGB4_pro)/4"
   ]
  },
  {
   "cell_type": "code",
   "execution_count": 39,
   "id": "6d790097",
   "metadata": {
    "scrolled": true
   },
   "outputs": [],
   "source": [
    "XGB_probability = XGB_pro[:,1]\n",
    "XGB_label = (XGB_probability>0.38).astype(int)"
   ]
  },
  {
   "cell_type": "code",
   "execution_count": 42,
   "id": "09180067",
   "metadata": {},
   "outputs": [],
   "source": [
    "df = pd.DataFrame({'name':name,'probability':XGB_probability, 'label':XGB_label})\n",
    "df.to_csv('PredictResults.csv')"
   ]
  },
  {
   "cell_type": "code",
   "execution_count": null,
   "id": "14278f3f",
   "metadata": {},
   "outputs": [],
   "source": []
  }
 ],
 "metadata": {
  "kernelspec": {
   "display_name": "Python 3",
   "language": "python",
   "name": "python3"
  },
  "language_info": {
   "codemirror_mode": {
    "name": "ipython",
    "version": 3
   },
   "file_extension": ".py",
   "mimetype": "text/x-python",
   "name": "python",
   "nbconvert_exporter": "python",
   "pygments_lexer": "ipython3",
   "version": "3.8.8"
  }
 },
 "nbformat": 4,
 "nbformat_minor": 5
}
